{
  "nbformat": 4,
  "nbformat_minor": 0,
  "metadata": {
    "colab": {
      "provenance": [],
      "authorship_tag": "ABX9TyMBa6qFyVRzlJtYx69dvVhM",
      "include_colab_link": true
    },
    "kernelspec": {
      "name": "python3",
      "display_name": "Python 3"
    },
    "language_info": {
      "name": "python"
    }
  },
  "cells": [
    {
      "cell_type": "markdown",
      "metadata": {
        "id": "view-in-github",
        "colab_type": "text"
      },
      "source": [
        "<a href=\"https://colab.research.google.com/github/Nuwantha1990/Python---Begining-Practice/blob/main/Untitled17.ipynb\" target=\"_parent\"><img src=\"https://colab.research.google.com/assets/colab-badge.svg\" alt=\"Open In Colab\"/></a>"
      ]
    },
    {
      "cell_type": "code",
      "execution_count": 2,
      "metadata": {
        "colab": {
          "base_uri": "https://localhost:8080/"
        },
        "id": "bv0SBQVSBbdS",
        "outputId": "0d0b2c34-f8a3-476b-d9a6-fd0d59957e44"
      },
      "outputs": [
        {
          "output_type": "stream",
          "name": "stdout",
          "text": [
            "123\n",
            "Hello world\n"
          ]
        }
      ],
      "source": [
        "y = 123\n",
        "\n",
        "print(y)\n",
        "\n",
        "#this is comment\n",
        "\n",
        "print('Hello world')"
      ]
    },
    {
      "cell_type": "code",
      "source": [
        "# variable\n",
        "\n",
        "x = 123\n",
        "y = 'Nuwantha'\n",
        "\n",
        "print(x)\n",
        "print(y)\n",
        "\n",
        "x = 125\n",
        "x = \"Nuwantha\""
      ],
      "metadata": {
        "colab": {
          "base_uri": "https://localhost:8080/"
        },
        "id": "iWy-JVmVPeC8",
        "outputId": "fa293817-4283-467a-f1dc-bcbeaa600df8"
      },
      "execution_count": 4,
      "outputs": [
        {
          "output_type": "stream",
          "name": "stdout",
          "text": [
            "123\n",
            "Nuwantha\n"
          ]
        }
      ]
    },
    {
      "cell_type": "code",
      "source": [
        "#casting\n",
        "\n",
        "x = str(12)\n",
        "y = int(13)\n",
        "z = float(16)\n",
        "\n",
        "print(x)\n",
        "print(y)\n",
        "print(z)"
      ],
      "metadata": {
        "colab": {
          "base_uri": "https://localhost:8080/"
        },
        "id": "fZIfnmZXUvGD",
        "outputId": "ff4b462b-ac31-4125-9d56-ee870bf4bbbb"
      },
      "execution_count": 6,
      "outputs": [
        {
          "output_type": "stream",
          "name": "stdout",
          "text": [
            "12\n",
            "13\n",
            "16.0\n"
          ]
        }
      ]
    },
    {
      "cell_type": "code",
      "source": [
        "# get the type of data\n",
        "\n",
        "x = 125\n",
        "y = \"Nuwantha\"\n",
        "z = 3.5\n",
        "\n",
        "print(type(x))\n",
        "print(type(y))\n",
        "print(type(z))"
      ],
      "metadata": {
        "colab": {
          "base_uri": "https://localhost:8080/"
        },
        "id": "XhjahBhQVNh9",
        "outputId": "3af1ee04-8e1f-410a-ff14-e54246cce603"
      },
      "execution_count": 7,
      "outputs": [
        {
          "output_type": "stream",
          "name": "stdout",
          "text": [
            "<class 'int'>\n",
            "<class 'str'>\n",
            "<class 'float'>\n"
          ]
        }
      ]
    },
    {
      "cell_type": "code",
      "source": [
        "#single and double quote\n",
        "\n",
        "y = \"Nuwantha\"\n",
        "x = 'Nuwantha'\n",
        "\n",
        "print(y)\n",
        "print(x)"
      ],
      "metadata": {
        "colab": {
          "base_uri": "https://localhost:8080/"
        },
        "id": "CtOSgxzSXMzZ",
        "outputId": "2918eb75-8d83-4ee0-f495-c2dcab5a6aa2"
      },
      "execution_count": 8,
      "outputs": [
        {
          "output_type": "stream",
          "name": "stdout",
          "text": [
            "Nuwantha\n",
            "Nuwantha\n"
          ]
        }
      ]
    }
  ]
}